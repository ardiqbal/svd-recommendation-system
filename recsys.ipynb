{
  "nbformat": 4,
  "nbformat_minor": 0,
  "metadata": {
    "colab": {
      "name": "recsys.ipynb",
      "provenance": []
    },
    "kernelspec": {
      "name": "python3",
      "display_name": "Python 3"
    },
    "language_info": {
      "name": "python"
    }
  },
  "cells": [
    {
      "cell_type": "markdown",
      "metadata": {
        "id": "3E22RZHH8LtO"
      },
      "source": [
        "Tutorial sistem rekomendasi sederhana dengan python dan library surprise.\n",
        "Referensi: https://surprise.readthedocs.io/en/stable/getting_started.html"
      ]
    },
    {
      "cell_type": "markdown",
      "metadata": {
        "id": "LFpD52W87VPG"
      },
      "source": [
        "Install library surprise lebih dulu"
      ]
    },
    {
      "cell_type": "code",
      "metadata": {
        "colab": {
          "base_uri": "https://localhost:8080/"
        },
        "id": "bOWtMI8Z6bXc",
        "outputId": "587b42b7-e9fe-45b1-992d-52ae08651349"
      },
      "source": [
        "!pip install surprise"
      ],
      "execution_count": null,
      "outputs": [
        {
          "output_type": "stream",
          "name": "stdout",
          "text": [
            "Collecting surprise\n",
            "  Downloading surprise-0.1-py2.py3-none-any.whl (1.8 kB)\n",
            "Collecting scikit-surprise\n",
            "  Downloading scikit-surprise-1.1.1.tar.gz (11.8 MB)\n",
            "\u001b[K     |████████████████████████████████| 11.8 MB 5.0 MB/s \n",
            "\u001b[?25hRequirement already satisfied: joblib>=0.11 in /usr/local/lib/python3.7/dist-packages (from scikit-surprise->surprise) (1.0.1)\n",
            "Requirement already satisfied: numpy>=1.11.2 in /usr/local/lib/python3.7/dist-packages (from scikit-surprise->surprise) (1.19.5)\n",
            "Requirement already satisfied: scipy>=1.0.0 in /usr/local/lib/python3.7/dist-packages (from scikit-surprise->surprise) (1.4.1)\n",
            "Requirement already satisfied: six>=1.10.0 in /usr/local/lib/python3.7/dist-packages (from scikit-surprise->surprise) (1.15.0)\n",
            "Building wheels for collected packages: scikit-surprise\n",
            "  Building wheel for scikit-surprise (setup.py) ... \u001b[?25l\u001b[?25hdone\n",
            "  Created wheel for scikit-surprise: filename=scikit_surprise-1.1.1-cp37-cp37m-linux_x86_64.whl size=1619396 sha256=c0be19c6d1b93336fe7a0f64189284041d039349e05013d68d09c113134b63a0\n",
            "  Stored in directory: /root/.cache/pip/wheels/76/44/74/b498c42be47b2406bd27994e16c5188e337c657025ab400c1c\n",
            "Successfully built scikit-surprise\n",
            "Installing collected packages: scikit-surprise, surprise\n",
            "Successfully installed scikit-surprise-1.1.1 surprise-0.1\n"
          ]
        }
      ]
    },
    {
      "cell_type": "markdown",
      "metadata": {
        "id": "GxaHNPzT7hVh"
      },
      "source": [
        "import library surprise"
      ]
    },
    {
      "cell_type": "code",
      "metadata": {
        "id": "qkSyGHsF7flD"
      },
      "source": [
        "from surprise import SVD\n",
        "from surprise import Dataset\n",
        "from surprise.model_selection import GridSearchCV, ShuffleSplit\n",
        "\n",
        "import numpy as np\n",
        "import pandas as pd\n",
        "import seaborn as sns"
      ],
      "execution_count": null,
      "outputs": []
    },
    {
      "cell_type": "markdown",
      "metadata": {
        "id": "ntTGHlLq715e"
      },
      "source": [
        "Load dataset yang tersedia di library, movielens dataset, berisi rating film dari 900an ke 1600an film. Total rating ada 100.000"
      ]
    },
    {
      "cell_type": "code",
      "metadata": {
        "id": "s0pJeuFV7y6F"
      },
      "source": [
        "# Use movielens-100K\n",
        "data = Dataset.load_builtin('ml-100k', prompt=False)"
      ],
      "execution_count": null,
      "outputs": []
    },
    {
      "cell_type": "markdown",
      "metadata": {
        "id": "IX1yH4xiTz-E"
      },
      "source": [
        "Cek dataset"
      ]
    },
    {
      "cell_type": "code",
      "metadata": {
        "id": "UPMojxJ0UNCa"
      },
      "source": [
        "dataset = data.build_full_trainset()"
      ],
      "execution_count": null,
      "outputs": []
    },
    {
      "cell_type": "code",
      "metadata": {
        "id": "KEbm5y0SX4BM"
      },
      "source": [
        "df = pd.DataFrame(dataset.build_testset(), columns=['user_id', 'item_id', 'rating'])"
      ],
      "execution_count": null,
      "outputs": []
    },
    {
      "cell_type": "code",
      "metadata": {
        "colab": {
          "base_uri": "https://localhost:8080/",
          "height": 204
        },
        "id": "mW4w85ExZ6Kb",
        "outputId": "95796286-3327-4436-cec9-7e0b4ba800a1"
      },
      "source": [
        "df.head()"
      ],
      "execution_count": null,
      "outputs": [
        {
          "output_type": "execute_result",
          "data": {
            "text/html": [
              "<div>\n",
              "<style scoped>\n",
              "    .dataframe tbody tr th:only-of-type {\n",
              "        vertical-align: middle;\n",
              "    }\n",
              "\n",
              "    .dataframe tbody tr th {\n",
              "        vertical-align: top;\n",
              "    }\n",
              "\n",
              "    .dataframe thead th {\n",
              "        text-align: right;\n",
              "    }\n",
              "</style>\n",
              "<table border=\"1\" class=\"dataframe\">\n",
              "  <thead>\n",
              "    <tr style=\"text-align: right;\">\n",
              "      <th></th>\n",
              "      <th>user_id</th>\n",
              "      <th>item_id</th>\n",
              "      <th>rating</th>\n",
              "    </tr>\n",
              "  </thead>\n",
              "  <tbody>\n",
              "    <tr>\n",
              "      <th>0</th>\n",
              "      <td>196</td>\n",
              "      <td>242</td>\n",
              "      <td>3.0</td>\n",
              "    </tr>\n",
              "    <tr>\n",
              "      <th>1</th>\n",
              "      <td>196</td>\n",
              "      <td>393</td>\n",
              "      <td>4.0</td>\n",
              "    </tr>\n",
              "    <tr>\n",
              "      <th>2</th>\n",
              "      <td>196</td>\n",
              "      <td>381</td>\n",
              "      <td>4.0</td>\n",
              "    </tr>\n",
              "    <tr>\n",
              "      <th>3</th>\n",
              "      <td>196</td>\n",
              "      <td>251</td>\n",
              "      <td>3.0</td>\n",
              "    </tr>\n",
              "    <tr>\n",
              "      <th>4</th>\n",
              "      <td>196</td>\n",
              "      <td>655</td>\n",
              "      <td>5.0</td>\n",
              "    </tr>\n",
              "  </tbody>\n",
              "</table>\n",
              "</div>"
            ],
            "text/plain": [
              "  user_id item_id  rating\n",
              "0     196     242     3.0\n",
              "1     196     393     4.0\n",
              "2     196     381     4.0\n",
              "3     196     251     3.0\n",
              "4     196     655     5.0"
            ]
          },
          "metadata": {},
          "execution_count": 50
        }
      ]
    },
    {
      "cell_type": "code",
      "metadata": {
        "colab": {
          "base_uri": "https://localhost:8080/",
          "height": 297
        },
        "id": "iPYf9AgtaARo",
        "outputId": "493bfa15-f075-401e-8caf-1c3e44733e25"
      },
      "source": [
        "df.describe()"
      ],
      "execution_count": null,
      "outputs": [
        {
          "output_type": "execute_result",
          "data": {
            "text/html": [
              "<div>\n",
              "<style scoped>\n",
              "    .dataframe tbody tr th:only-of-type {\n",
              "        vertical-align: middle;\n",
              "    }\n",
              "\n",
              "    .dataframe tbody tr th {\n",
              "        vertical-align: top;\n",
              "    }\n",
              "\n",
              "    .dataframe thead th {\n",
              "        text-align: right;\n",
              "    }\n",
              "</style>\n",
              "<table border=\"1\" class=\"dataframe\">\n",
              "  <thead>\n",
              "    <tr style=\"text-align: right;\">\n",
              "      <th></th>\n",
              "      <th>rating</th>\n",
              "    </tr>\n",
              "  </thead>\n",
              "  <tbody>\n",
              "    <tr>\n",
              "      <th>count</th>\n",
              "      <td>100000.000000</td>\n",
              "    </tr>\n",
              "    <tr>\n",
              "      <th>mean</th>\n",
              "      <td>3.529860</td>\n",
              "    </tr>\n",
              "    <tr>\n",
              "      <th>std</th>\n",
              "      <td>1.125674</td>\n",
              "    </tr>\n",
              "    <tr>\n",
              "      <th>min</th>\n",
              "      <td>1.000000</td>\n",
              "    </tr>\n",
              "    <tr>\n",
              "      <th>25%</th>\n",
              "      <td>3.000000</td>\n",
              "    </tr>\n",
              "    <tr>\n",
              "      <th>50%</th>\n",
              "      <td>4.000000</td>\n",
              "    </tr>\n",
              "    <tr>\n",
              "      <th>75%</th>\n",
              "      <td>4.000000</td>\n",
              "    </tr>\n",
              "    <tr>\n",
              "      <th>max</th>\n",
              "      <td>5.000000</td>\n",
              "    </tr>\n",
              "  </tbody>\n",
              "</table>\n",
              "</div>"
            ],
            "text/plain": [
              "              rating\n",
              "count  100000.000000\n",
              "mean        3.529860\n",
              "std         1.125674\n",
              "min         1.000000\n",
              "25%         3.000000\n",
              "50%         4.000000\n",
              "75%         4.000000\n",
              "max         5.000000"
            ]
          },
          "metadata": {},
          "execution_count": 51
        }
      ]
    },
    {
      "cell_type": "code",
      "metadata": {
        "colab": {
          "base_uri": "https://localhost:8080/"
        },
        "id": "OQFIyf8Ib4PY",
        "outputId": "037ef66d-8f3b-46c9-aa49-8bdd6309b079"
      },
      "source": [
        "df['user_id'].unique().shape, df['item_id'].unique().shape"
      ],
      "execution_count": null,
      "outputs": [
        {
          "output_type": "execute_result",
          "data": {
            "text/plain": [
              "((943,), (1682,))"
            ]
          },
          "metadata": {},
          "execution_count": 55
        }
      ]
    },
    {
      "cell_type": "code",
      "metadata": {
        "id": "bCUOI1hEc2PN"
      },
      "source": [
        "count_per_rating = df['rating'].value_counts()"
      ],
      "execution_count": null,
      "outputs": []
    },
    {
      "cell_type": "markdown",
      "metadata": {
        "id": "-a8TuCmYZ_by"
      },
      "source": [
        "Cek distribusi rating"
      ]
    },
    {
      "cell_type": "code",
      "metadata": {
        "colab": {
          "base_uri": "https://localhost:8080/",
          "height": 282
        },
        "id": "QT8HZk5ocnqq",
        "outputId": "2da41eb2-0945-4cac-e922-4eaab2630497"
      },
      "source": [
        "sns.barplot(x=count_per_rating.index, y=count_per_rating.values)"
      ],
      "execution_count": null,
      "outputs": [
        {
          "output_type": "execute_result",
          "data": {
            "text/plain": [
              "<matplotlib.axes._subplots.AxesSubplot at 0x7fd4c55cf190>"
            ]
          },
          "metadata": {},
          "execution_count": 64
        },
        {
          "output_type": "display_data",
          "data": {
            "image/png": "[encoded data removed]",
            "text/plain": [
              "<Figure size 432x288 with 1 Axes>"
            ]
          },
          "metadata": {
            "needs_background": "light"
          }
        }
      ]
    },
    {
      "cell_type": "markdown",
      "metadata": {
        "id": "feAxp3h9ABqw"
      },
      "source": [
        "Tentukan parameter2 yang ingin dites. Parameter2 SVD ada di link ini: https://surprise.readthedocs.io/en/stable/matrix_factorization.html#surprise.prediction_algorithms.matrix_factorization.SVD"
      ]
    },
    {
      "cell_type": "code",
      "metadata": {
        "id": "3AQNiDVA-BS0"
      },
      "source": [
        "param_grid = {'n_epochs': np.arange(2,11,2), 'lr_all': np.random.uniform(0.002,0.005,5),\n",
        "              'reg_all': np.arange(0.1,0.6,0.1)}"
      ],
      "execution_count": null,
      "outputs": []
    },
    {
      "cell_type": "markdown",
      "metadata": {
        "id": "CmIk6pgWTsQ6"
      },
      "source": [
        "Jalankan hyperparameter tuning dengan gridsearch"
      ]
    },
    {
      "cell_type": "code",
      "metadata": {
        "id": "xynYEEoAAAM0"
      },
      "source": [
        "gs = GridSearchCV(SVD, param_grid, measures=['rmse', 'mae'], cv=3)"
      ],
      "execution_count": null,
      "outputs": []
    },
    {
      "cell_type": "code",
      "metadata": {
        "id": "9b7hvq4i-VDE"
      },
      "source": [
        "gs.fit(data)"
      ],
      "execution_count": null,
      "outputs": []
    },
    {
      "cell_type": "markdown",
      "metadata": {
        "id": "CtUGcAY_SxbM"
      },
      "source": [
        "Cek skor rmse terbaik"
      ]
    },
    {
      "cell_type": "code",
      "metadata": {
        "colab": {
          "base_uri": "https://localhost:8080/"
        },
        "id": "OoKI8WfHSgeb",
        "outputId": "f6b9aa62-37d9-4b52-929b-fa38ca44e651"
      },
      "source": [
        "gs.best_score['rmse']"
      ],
      "execution_count": null,
      "outputs": [
        {
          "output_type": "execute_result",
          "data": {
            "text/plain": [
              "0.9529572325969825"
            ]
          },
          "metadata": {},
          "execution_count": 29
        }
      ]
    },
    {
      "cell_type": "code",
      "metadata": {
        "id": "E7R185xvnMw0"
      },
      "source": [
        ""
      ],
      "execution_count": null,
      "outputs": []
    },
    {
      "cell_type": "code",
      "metadata": {
        "colab": {
          "base_uri": "https://localhost:8080/"
        },
        "id": "p2AV8tCJShH5",
        "outputId": "61940cec-9f2c-418a-952f-0b4d81e72e91"
      },
      "source": [
        "gs.best_score['mae']"
      ],
      "execution_count": null,
      "outputs": [
        {
          "output_type": "execute_result",
          "data": {
            "text/plain": [
              "0.7575947465443819"
            ]
          },
          "metadata": {},
          "execution_count": 30
        }
      ]
    },
    {
      "cell_type": "markdown",
      "metadata": {
        "id": "hnAQjXOxS5AH"
      },
      "source": [
        "Cek parameter yang menghasilkan skor terbaik"
      ]
    },
    {
      "cell_type": "code",
      "metadata": {
        "colab": {
          "base_uri": "https://localhost:8080/"
        },
        "id": "CvPFgfcwSi-p",
        "outputId": "d0d33d9d-b249-4dab-97bb-fdae97a72b4c"
      },
      "source": [
        "gs.best_params['rmse']"
      ],
      "execution_count": null,
      "outputs": [
        {
          "output_type": "execute_result",
          "data": {
            "text/plain": [
              "{'lr_all': 0.004346324863799889, 'n_epochs': 10, 'reg_all': 0.1}"
            ]
          },
          "metadata": {},
          "execution_count": 31
        }
      ]
    },
    {
      "cell_type": "code",
      "metadata": {
        "colab": {
          "base_uri": "https://localhost:8080/"
        },
        "id": "T8ZnmSsCSlQd",
        "outputId": "93201feb-5298-4f50-a202-9db904bfe34d"
      },
      "source": [
        "gs.best_params['mae']"
      ],
      "execution_count": null,
      "outputs": [
        {
          "output_type": "execute_result",
          "data": {
            "text/plain": [
              "{'lr_all': 0.004346324863799889, 'n_epochs': 10, 'reg_all': 0.1}"
            ]
          },
          "metadata": {},
          "execution_count": 32
        }
      ]
    },
    {
      "cell_type": "markdown",
      "metadata": {
        "id": "MVFjrBK1TNTA"
      },
      "source": [
        "cek keseluruhan hasil tuning"
      ]
    },
    {
      "cell_type": "code",
      "metadata": {
        "id": "fjFACEC1TR5f"
      },
      "source": [
        "df_results = pd.DataFrame.from_dict(gs.cv_results)"
      ],
      "execution_count": null,
      "outputs": []
    },
    {
      "cell_type": "code",
      "metadata": {
        "colab": {
          "base_uri": "https://localhost:8080/",
          "height": 309
        },
        "id": "JxcPqsDzVQX0",
        "outputId": "57e34d16-f704-4660-979f-2474b8b0ffe6"
      },
      "source": [
        "df_results.head()"
      ],
      "execution_count": null,
      "outputs": [
        {
          "output_type": "execute_result",
          "data": {
            "text/html": [
              "<div>\n",
              "<style scoped>\n",
              "    .dataframe tbody tr th:only-of-type {\n",
              "        vertical-align: middle;\n",
              "    }\n",
              "\n",
              "    .dataframe tbody tr th {\n",
              "        vertical-align: top;\n",
              "    }\n",
              "\n",
              "    .dataframe thead th {\n",
              "        text-align: right;\n",
              "    }\n",
              "</style>\n",
              "<table border=\"1\" class=\"dataframe\">\n",
              "  <thead>\n",
              "    <tr style=\"text-align: right;\">\n",
              "      <th></th>\n",
              "      <th>split0_test_rmse</th>\n",
              "      <th>split1_test_rmse</th>\n",
              "      <th>split2_test_rmse</th>\n",
              "      <th>mean_test_rmse</th>\n",
              "      <th>std_test_rmse</th>\n",
              "      <th>rank_test_rmse</th>\n",
              "      <th>split0_test_mae</th>\n",
              "      <th>split1_test_mae</th>\n",
              "      <th>split2_test_mae</th>\n",
              "      <th>mean_test_mae</th>\n",
              "      <th>std_test_mae</th>\n",
              "      <th>rank_test_mae</th>\n",
              "      <th>mean_fit_time</th>\n",
              "      <th>std_fit_time</th>\n",
              "      <th>mean_test_time</th>\n",
              "      <th>std_test_time</th>\n",
              "      <th>params</th>\n",
              "      <th>param_n_epochs</th>\n",
              "      <th>param_lr_all</th>\n",
              "      <th>param_reg_all</th>\n",
              "    </tr>\n",
              "  </thead>\n",
              "  <tbody>\n",
              "    <tr>\n",
              "      <th>0</th>\n",
              "      <td>0.994395</td>\n",
              "      <td>0.997164</td>\n",
              "      <td>0.994217</td>\n",
              "      <td>0.995259</td>\n",
              "      <td>0.001349</td>\n",
              "      <td>98</td>\n",
              "      <td>0.799916</td>\n",
              "      <td>0.800277</td>\n",
              "      <td>0.800084</td>\n",
              "      <td>0.800092</td>\n",
              "      <td>0.000148</td>\n",
              "      <td>94</td>\n",
              "      <td>0.470044</td>\n",
              "      <td>0.019292</td>\n",
              "      <td>0.433495</td>\n",
              "      <td>0.101895</td>\n",
              "      <td>{'n_epochs': 2, 'lr_all': 0.004346324863799889...</td>\n",
              "      <td>2</td>\n",
              "      <td>0.004346</td>\n",
              "      <td>0.1</td>\n",
              "    </tr>\n",
              "    <tr>\n",
              "      <th>1</th>\n",
              "      <td>0.996364</td>\n",
              "      <td>0.998663</td>\n",
              "      <td>0.997177</td>\n",
              "      <td>0.997401</td>\n",
              "      <td>0.000952</td>\n",
              "      <td>101</td>\n",
              "      <td>0.803744</td>\n",
              "      <td>0.804245</td>\n",
              "      <td>0.804719</td>\n",
              "      <td>0.804236</td>\n",
              "      <td>0.000398</td>\n",
              "      <td>99</td>\n",
              "      <td>0.426432</td>\n",
              "      <td>0.016282</td>\n",
              "      <td>0.448252</td>\n",
              "      <td>0.051967</td>\n",
              "      <td>{'n_epochs': 2, 'lr_all': 0.004346324863799889...</td>\n",
              "      <td>2</td>\n",
              "      <td>0.004346</td>\n",
              "      <td>0.2</td>\n",
              "    </tr>\n",
              "    <tr>\n",
              "      <th>2</th>\n",
              "      <td>0.998223</td>\n",
              "      <td>1.001213</td>\n",
              "      <td>0.998460</td>\n",
              "      <td>0.999299</td>\n",
              "      <td>0.001357</td>\n",
              "      <td>102</td>\n",
              "      <td>0.807035</td>\n",
              "      <td>0.807899</td>\n",
              "      <td>0.807313</td>\n",
              "      <td>0.807416</td>\n",
              "      <td>0.000360</td>\n",
              "      <td>102</td>\n",
              "      <td>0.435602</td>\n",
              "      <td>0.016950</td>\n",
              "      <td>0.433716</td>\n",
              "      <td>0.061574</td>\n",
              "      <td>{'n_epochs': 2, 'lr_all': 0.004346324863799889...</td>\n",
              "      <td>2</td>\n",
              "      <td>0.004346</td>\n",
              "      <td>0.3</td>\n",
              "    </tr>\n",
              "    <tr>\n",
              "      <th>3</th>\n",
              "      <td>1.000521</td>\n",
              "      <td>1.004895</td>\n",
              "      <td>1.001463</td>\n",
              "      <td>1.002293</td>\n",
              "      <td>0.001880</td>\n",
              "      <td>104</td>\n",
              "      <td>0.810695</td>\n",
              "      <td>0.812719</td>\n",
              "      <td>0.812340</td>\n",
              "      <td>0.811918</td>\n",
              "      <td>0.000879</td>\n",
              "      <td>105</td>\n",
              "      <td>0.435804</td>\n",
              "      <td>0.003540</td>\n",
              "      <td>0.373851</td>\n",
              "      <td>0.057675</td>\n",
              "      <td>{'n_epochs': 2, 'lr_all': 0.004346324863799889...</td>\n",
              "      <td>2</td>\n",
              "      <td>0.004346</td>\n",
              "      <td>0.4</td>\n",
              "    </tr>\n",
              "    <tr>\n",
              "      <th>4</th>\n",
              "      <td>1.003384</td>\n",
              "      <td>1.007051</td>\n",
              "      <td>1.004156</td>\n",
              "      <td>1.004864</td>\n",
              "      <td>0.001578</td>\n",
              "      <td>106</td>\n",
              "      <td>0.814503</td>\n",
              "      <td>0.816233</td>\n",
              "      <td>0.816129</td>\n",
              "      <td>0.815622</td>\n",
              "      <td>0.000792</td>\n",
              "      <td>108</td>\n",
              "      <td>0.409081</td>\n",
              "      <td>0.016735</td>\n",
              "      <td>0.381946</td>\n",
              "      <td>0.068789</td>\n",
              "      <td>{'n_epochs': 2, 'lr_all': 0.004346324863799889...</td>\n",
              "      <td>2</td>\n",
              "      <td>0.004346</td>\n",
              "      <td>0.5</td>\n",
              "    </tr>\n",
              "  </tbody>\n",
              "</table>\n",
              "</div>"
            ],
            "text/plain": [
              "   split0_test_rmse  split1_test_rmse  ...  param_lr_all  param_reg_all\n",
              "0          0.994395          0.997164  ...      0.004346            0.1\n",
              "1          0.996364          0.998663  ...      0.004346            0.2\n",
              "2          0.998223          1.001213  ...      0.004346            0.3\n",
              "3          1.000521          1.004895  ...      0.004346            0.4\n",
              "4          1.003384          1.007051  ...      0.004346            0.5\n",
              "\n",
              "[5 rows x 20 columns]"
            ]
          },
          "metadata": {},
          "execution_count": 39
        }
      ]
    },
    {
      "cell_type": "markdown",
      "metadata": {
        "id": "-o13wyptS9mb"
      },
      "source": [
        "Train model dengan parameter terbaik. Dataset dilatih dengan dataset"
      ]
    },
    {
      "cell_type": "code",
      "metadata": {
        "colab": {
          "base_uri": "https://localhost:8080/"
        },
        "id": "_XGyQADiSt2E",
        "outputId": "440ceb0c-d8bb-4806-cdd7-595858250ce6"
      },
      "source": [
        "model = gs.best_estimator['rmse']\n",
        "model.fit(dataset)"
      ],
      "execution_count": null,
      "outputs": [
        {
          "output_type": "execute_result",
          "data": {
            "text/plain": [
              "<surprise.prediction_algorithms.matrix_factorization.SVD at 0x7fd4da0c8cd0>"
            ]
          },
          "metadata": {},
          "execution_count": 66
        }
      ]
    },
    {
      "cell_type": "code",
      "metadata": {
        "id": "eiAtvZ8ter8i"
      },
      "source": [
        "test = dataset.build_testset()"
      ],
      "execution_count": null,
      "outputs": []
    },
    {
      "cell_type": "markdown",
      "metadata": {
        "id": "sdu5wDRQeZYF"
      },
      "source": [
        "Prediksi rekomendasi untuk tiap user"
      ]
    },
    {
      "cell_type": "code",
      "metadata": {
        "id": "1yIUkRfgepqa"
      },
      "source": [
        "predictions = model.test(test)"
      ],
      "execution_count": null,
      "outputs": []
    },
    {
      "cell_type": "markdown",
      "metadata": {
        "id": "mpyp6atoedb_"
      },
      "source": [
        "Lihat rekomendasi untuk tiap user"
      ]
    },
    {
      "cell_type": "code",
      "metadata": {
        "id": "GBCrgegKg8Hr"
      },
      "source": [
        "from collections import defaultdict"
      ],
      "execution_count": null,
      "outputs": []
    },
    {
      "cell_type": "code",
      "metadata": {
        "colab": {
          "base_uri": "https://localhost:8080/"
        },
        "id": "rtHfpEL1hMhd",
        "outputId": "c03f6226-3457-4907-e940-51c52bd5454c"
      },
      "source": [
        "predictions[0]"
      ],
      "execution_count": null,
      "outputs": [
        {
          "output_type": "execute_result",
          "data": {
            "text/plain": [
              "Prediction(uid='196', iid='242', r_ui=3.0, est=3.9646475619789823, details={'was_impossible': False})"
            ]
          },
          "metadata": {},
          "execution_count": 75
        }
      ]
    },
    {
      "cell_type": "code",
      "metadata": {
        "id": "oqK3FEn0eYi2"
      },
      "source": [
        "recommendations = defaultdict(list)\n",
        "for uid, iid, true_r, est, _ in predictions:\n",
        "  recommendations[uid].append((iid, est))"
      ],
      "execution_count": null,
      "outputs": []
    },
    {
      "cell_type": "code",
      "metadata": {
        "id": "NDzioCRrg-x7"
      },
      "source": [
        "for uid, user_ratings in recommendations.items():\n",
        "  user_ratings.sort(key=lambda x: x[1], reverse=True)\n",
        "  recommendations[uid] = user_ratings"
      ],
      "execution_count": null,
      "outputs": []
    },
    {
      "cell_type": "markdown",
      "metadata": {
        "id": "xu7H2bYwDcmn"
      },
      "source": [
        "Misalnya mau lihat rekomendasi buat user 1"
      ]
    },
    {
      "cell_type": "code",
      "metadata": {
        "colab": {
          "base_uri": "https://localhost:8080/"
        },
        "id": "yW2-o0vWhibi",
        "outputId": "6a0e473f-7e58-4ca6-a8b9-c841173fb4d3"
      },
      "source": [
        "recommendations['1']"
      ],
      "execution_count": null,
      "outputs": [
        {
          "output_type": "execute_result",
          "data": {
            "text/plain": [
              "[('169', 4.534593965013709),\n",
              " ('64', 4.464733765647184),\n",
              " ('12', 4.3848166432308595),\n",
              " ('114', 4.359603957678027),\n",
              " ('50', 4.3486131547190086),\n",
              " ('178', 4.322953801108025),\n",
              " ('127', 4.290717622627164),\n",
              " ('174', 4.281840688594757),\n",
              " ('98', 4.274216392462841),\n",
              " ('134', 4.259328540318994),\n",
              " ('272', 4.249476679449531),\n",
              " ('172', 4.24885127911778),\n",
              " ('170', 4.2314933210854715),\n",
              " ('190', 4.214417461513046),\n",
              " ('199', 4.206639276299322),\n",
              " ('89', 4.201555467721988),\n",
              " ('187', 4.198347501734381),\n",
              " ('191', 4.18051208183794),\n",
              " ('223', 4.176743911613814),\n",
              " ('251', 4.1558363189383325),\n",
              " ('173', 4.138755300077365),\n",
              " ('185', 4.132928191752922),\n",
              " ('59', 4.130632322704861),\n",
              " ('22', 4.123003181800296),\n",
              " ('166', 4.122400769187732),\n",
              " ('48', 4.11827713788101),\n",
              " ('23', 4.116505454342492),\n",
              " ('100', 4.1150491888040674),\n",
              " ('192', 4.1086531059995535),\n",
              " ('198', 4.105061133521872),\n",
              " ('168', 4.094774276172893),\n",
              " ('189', 4.092692731694267),\n",
              " ('124', 4.087743610036075),\n",
              " ('183', 4.070442594687771),\n",
              " ('60', 4.070227366232139),\n",
              " ('194', 4.067618377274907),\n",
              " ('132', 4.058228027948707),\n",
              " ('180', 4.056377644784334),\n",
              " ('165', 4.053862946922085),\n",
              " ('56', 4.047061380144798),\n",
              " ('79', 4.046918725321611),\n",
              " ('197', 4.045423028537324),\n",
              " ('136', 4.043288935443316),\n",
              " ('45', 4.042449360049033),\n",
              " ('242', 4.03937964411943),\n",
              " ('181', 4.029004018800386),\n",
              " ('83', 4.027903223191878),\n",
              " ('19', 4.0237951648035715),\n",
              " ('176', 4.01805594511323),\n",
              " ('177', 4.017686330148585),\n",
              " ('205', 4.017675700237406),\n",
              " ('182', 4.015226032930345),\n",
              " ('96', 4.015005470616991),\n",
              " ('195', 4.011521128843204),\n",
              " ('57', 4.00889056550949),\n",
              " ('156', 4.006248590642154),\n",
              " ('171', 3.986773878102836),\n",
              " ('14', 3.9820891181777855),\n",
              " ('28', 3.9779271784178682),\n",
              " ('86', 3.977915296735215),\n",
              " ('213', 3.9775568730733046),\n",
              " ('87', 3.9728662917763398),\n",
              " ('208', 3.969580297923491),\n",
              " ('246', 3.9678892421123955),\n",
              " ('207', 3.9651669965078296),\n",
              " ('193', 3.961180996346306),\n",
              " ('135', 3.959975910649199),\n",
              " ('269', 3.9576900840383176),\n",
              " ('265', 3.953558693600432),\n",
              " ('196', 3.952087857874294),\n",
              " ('179', 3.9508928709718876),\n",
              " ('211', 3.948824932776617),\n",
              " ('210', 3.9444784742699275),\n",
              " ('30', 3.9362993118418066),\n",
              " ('186', 3.9318924784404095),\n",
              " ('216', 3.929895135438322),\n",
              " ('8', 3.9267082444516936),\n",
              " ('144', 3.9176097229665707),\n",
              " ('228', 3.9165918935620248),\n",
              " ('129', 3.899787435850043),\n",
              " ('61', 3.8969847182492736),\n",
              " ('133', 3.8958247126161574),\n",
              " ('1', 3.8939922141777066),\n",
              " ('204', 3.8873167025751734),\n",
              " ('203', 3.8839605206714953),\n",
              " ('116', 3.883307575276681),\n",
              " ('150', 3.8817040920758537),\n",
              " ('137', 3.8816543629667013),\n",
              " ('175', 3.875173892547329),\n",
              " ('209', 3.8741803039619964),\n",
              " ('154', 3.870465217194002),\n",
              " ('7', 3.8678856398662975),\n",
              " ('69', 3.867447454690065),\n",
              " ('93', 3.864980084825268),\n",
              " ('11', 3.8640970295904924),\n",
              " ('238', 3.8568243954109738),\n",
              " ('42', 3.8514648566893275),\n",
              " ('10', 3.8508056370341754),\n",
              " ('9', 3.8431421753590502),\n",
              " ('32', 3.8420551925152617),\n",
              " ('258', 3.8343750366451386),\n",
              " ('200', 3.828800941926021),\n",
              " ('224', 3.827105079948581),\n",
              " ('221', 3.8190360719861),\n",
              " ('268', 3.818374998769757),\n",
              " ('202', 3.8162270978289072),\n",
              " ('52', 3.815365981115685),\n",
              " ('55', 3.8113372014231186),\n",
              " ('153', 3.811336342499035),\n",
              " ('71', 3.800015876207637),\n",
              " ('234', 3.7924733659886325),\n",
              " ('95', 3.7859915120304235),\n",
              " ('257', 3.782784496913498),\n",
              " ('188', 3.7819069033510755),\n",
              " ('113', 3.7751382043006787),\n",
              " ('82', 3.765194977866516),\n",
              " ('97', 3.762837244509992),\n",
              " ('126', 3.761830895179109),\n",
              " ('262', 3.759801587830942),\n",
              " ('248', 3.7497418143868946),\n",
              " ('143', 3.7497160480318357),\n",
              " ('119', 3.7480634499019314),\n",
              " ('15', 3.745213252852197),\n",
              " ('152', 3.7295830545783835),\n",
              " ('6', 3.7295544440838513),\n",
              " ('58', 3.727274942480849),\n",
              " ('157', 3.721778037314833),\n",
              " ('222', 3.7158323529677504),\n",
              " ('99', 3.7156452752486318),\n",
              " ('237', 3.705770848528938),\n",
              " ('131', 3.703485426984008),\n",
              " ('239', 3.702676869726369),\n",
              " ('256', 3.7001901466199154),\n",
              " ('253', 3.699316609547911),\n",
              " ('270', 3.6942043967871867),\n",
              " ('70', 3.69087429570262),\n",
              " ('117', 3.6904925385274745),\n",
              " ('236', 3.6899945252585375),\n",
              " ('92', 3.689357163104287),\n",
              " ('215', 3.6812834558599756),\n",
              " ('128', 3.672767590888042),\n",
              " ('241', 3.6726042268491446),\n",
              " ('151', 3.670817314211354),\n",
              " ('81', 3.6687637375810325),\n",
              " ('46', 3.664179025291792),\n",
              " ('115', 3.6603171236758016),\n",
              " ('66', 3.651152976926944),\n",
              " ('47', 3.6479837259097296),\n",
              " ('164', 3.640171823953215),\n",
              " ('76', 3.636957388348723),\n",
              " ('91', 3.6363869487053355),\n",
              " ('31', 3.6294748096822116),\n",
              " ('163', 3.6268673815507726),\n",
              " ('212', 3.6120382143300453),\n",
              " ('107', 3.608504433379456),\n",
              " ('65', 3.6067161810203556),\n",
              " ('160', 3.603843158219142),\n",
              " ('162', 3.5863088642437537),\n",
              " ('88', 3.586224008096839),\n",
              " ('206', 3.5784418039782193),\n",
              " ('33', 3.5778446772523047),\n",
              " ('218', 3.5729162161059116),\n",
              " ('109', 3.5716091127852976),\n",
              " ('250', 3.564966166961082),\n",
              " ('125', 3.5649305432186007),\n",
              " ('201', 3.5644410089245957),\n",
              " ('141', 3.557306761283053),\n",
              " ('68', 3.5541196111819686),\n",
              " ('4', 3.544340637634047),\n",
              " ('75', 3.5407193732350195),\n",
              " ('161', 3.537804354801923),\n",
              " ('230', 3.537204041294366),\n",
              " ('184', 3.53557106294064),\n",
              " ('20', 3.53491388215289),\n",
              " ('13', 3.528896946833635),\n",
              " ('111', 3.5246149503077775),\n",
              " ('267', 3.5226731135381915),\n",
              " ('147', 3.5200243164754697),\n",
              " ('24', 3.5087417367495766),\n",
              " ('51', 3.5058769856023355),\n",
              " ('73', 3.5015108355410445),\n",
              " ('25', 3.4840335893654535),\n",
              " ('121', 3.471479001491102),\n",
              " ('26', 3.4697159603325907),\n",
              " ('226', 3.466531236889078),\n",
              " ('220', 3.44437566560927),\n",
              " ('49', 3.4438735480938307),\n",
              " ('16', 3.4229993320496175),\n",
              " ('44', 3.4194208515605),\n",
              " ('108', 3.4102870232466187),\n",
              " ('101', 3.394376519779283),\n",
              " ('2', 3.388664395493387),\n",
              " ('39', 3.3864774191510856),\n",
              " ('18', 3.378771656256389),\n",
              " ('5', 3.3727229044845353),\n",
              " ('232', 3.370542865003206),\n",
              " ('77', 3.370052852073631),\n",
              " ('244', 3.3630406886829123),\n",
              " ('227', 3.3617022096319458),\n",
              " ('146', 3.3612711396750217),\n",
              " ('249', 3.353261077757676),\n",
              " ('123', 3.348177749544869),\n",
              " ('233', 3.3449399254195273),\n",
              " ('74', 3.3432341944983865),\n",
              " ('217', 3.3324229492740196),\n",
              " ('72', 3.3293417875747178),\n",
              " ('54', 3.3266487754436698),\n",
              " ('62', 3.3256324535565858),\n",
              " ('271', 3.322547716345042),\n",
              " ('255', 3.3216857537300704),\n",
              " ('17', 3.3207242604534613),\n",
              " ('149', 3.3166572872654263),\n",
              " ('214', 3.3152057241049913),\n",
              " ('159', 3.3136603591912928),\n",
              " ('34', 3.3073278526049164),\n",
              " ('118', 3.296494726677791),\n",
              " ('37', 3.2856482967031835),\n",
              " ('219', 3.2838326508774722),\n",
              " ('148', 3.246700480142473),\n",
              " ('102', 3.240262188069314),\n",
              " ('245', 3.235974662038505),\n",
              " ('229', 3.2244806096989382),\n",
              " ('63', 3.2138089488384143),\n",
              " ('3', 3.205967493056993),\n",
              " ('67', 3.1921152099931347),\n",
              " ('43', 3.1912972282475245),\n",
              " ('84', 3.1820341270287296),\n",
              " ('53', 3.1708597653676125),\n",
              " ('142', 3.1696875148112076),\n",
              " ('94', 3.164255569632659),\n",
              " ('27', 3.158770859459133),\n",
              " ('90', 3.1567259133607184),\n",
              " ('85', 3.1519580504467246),\n",
              " ('41', 3.14638256116023),\n",
              " ('167', 3.1418649162232244),\n",
              " ('104', 3.119177425435805),\n",
              " ('140', 3.104993618861918),\n",
              " ('40', 3.104980355212059),\n",
              " ('38', 3.103591247153473),\n",
              " ('247', 3.095103971276905),\n",
              " ('155', 3.074513511482807),\n",
              " ('225', 3.03775411846758),\n",
              " ('139', 3.020035593504019),\n",
              " ('112', 3.01087593732228),\n",
              " ('235', 3.0024173730183055),\n",
              " ('106', 2.9943628838605165),\n",
              " ('36', 2.9864971437353014),\n",
              " ('252', 2.9824150387229187),\n",
              " ('266', 2.974066618345599),\n",
              " ('35', 2.9690792014179994),\n",
              " ('138', 2.943986365127633),\n",
              " ('80', 2.9197545765765582),\n",
              " ('240', 2.9017677628521863),\n",
              " ('130', 2.899194752186009),\n",
              " ('264', 2.877710492664579),\n",
              " ('110', 2.8636329277756927),\n",
              " ('21', 2.8515332817071117),\n",
              " ('158', 2.8193596466041524),\n",
              " ('29', 2.802887867682853),\n",
              " ('261', 2.7938241026855954),\n",
              " ('263', 2.7902540787303822),\n",
              " ('103', 2.7859319382976606),\n",
              " ('145', 2.7619541636600577),\n",
              " ('231', 2.7617327844983217),\n",
              " ('259', 2.751590072318658),\n",
              " ('260', 2.7438006201075664),\n",
              " ('78', 2.7340709291424856),\n",
              " ('105', 2.6478739318728572),\n",
              " ('122', 2.6409701794122755),\n",
              " ('254', 2.5851176391049284),\n",
              " ('243', 2.542674298265347),\n",
              " ('120', 2.386323978950793)]"
            ]
          },
          "metadata": {},
          "execution_count": 94
        }
      ]
    }
  ]
}